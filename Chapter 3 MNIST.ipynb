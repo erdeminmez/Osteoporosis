{
 "cells": [
  {
   "cell_type": "markdown",
   "id": "c648456f",
   "metadata": {},
   "source": [
    "<h1>Chapter 3</h1>"
   ]
  },
  {
   "cell_type": "code",
   "execution_count": 87,
   "id": "4de0e933",
   "metadata": {},
   "outputs": [
    {
     "data": {
      "text/plain": [
       "dict_keys(['data', 'target', 'frame', 'categories', 'feature_names', 'target_names', 'DESCR', 'details', 'url'])"
      ]
     },
     "execution_count": 87,
     "metadata": {},
     "output_type": "execute_result"
    }
   ],
   "source": [
    "#get the MNIST data set, it is pictures of hand drawn numbers\n",
    "from sklearn.datasets import fetch_openml\n",
    "mnist = fetch_openml('mnist_784', version=1, as_frame=False) #scikit makes the MNIST dataset as a dataframe which is NOT what we want\n",
    "mnist.keys()"
   ]
  },
  {
   "cell_type": "code",
   "execution_count": 88,
   "id": "f40f0eeb",
   "metadata": {},
   "outputs": [
    {
     "name": "stdout",
     "output_type": "stream",
     "text": [
      "(70000, 784)\n",
      "(70000,)\n"
     ]
    }
   ],
   "source": [
    "#inspecting the data\n",
    "X, y = mnist[\"data\"], mnist[\"target\"]\n",
    "\n",
    "print(X.shape) #data, 70,000 images, each image has 784 features (which are 28x28 pixels)\n",
    "print(y.shape) #targets"
   ]
  },
  {
   "cell_type": "code",
   "execution_count": 89,
   "id": "c6ed30fb",
   "metadata": {},
   "outputs": [
    {
     "data": {
      "image/png": "[encoded data removed]",
      "text/plain": [
       "<Figure size 432x288 with 1 Axes>"
      ]
     },
     "metadata": {
      "needs_background": "light"
     },
     "output_type": "display_data"
    }
   ],
   "source": [
    "#display 1 digit from dataset\n",
    "%matplotlib inline\n",
    "import matplotlib as mpl\n",
    "import matplotlib.pyplot as plt\n",
    "\n",
    "some_digit = X[0] #this is number 5\n",
    "some_digit_image = some_digit.reshape(28, 28) #reshape to a 28x28 pixel image\n",
    "plt.imshow(some_digit_image, cmap=mpl.cm.binary)\n",
    "plt.axis(\"off\")\n",
    "plt.show() #this looks like the number 5"
   ]
  },
  {
   "cell_type": "code",
   "execution_count": 90,
   "id": "a9c78212",
   "metadata": {},
   "outputs": [
    {
     "name": "stdout",
     "output_type": "stream",
     "text": [
      "5\n"
     ]
    }
   ],
   "source": [
    "#check what the actual label is for that image\n",
    "#y is the targets\n",
    "print(y[0])\n",
    "\n",
    "#these targets are string to cast to int to ensure itll work with algorithims\n",
    "import numpy as np\n",
    "y = y.astype(np.uint8)"
   ]
  },
  {
   "cell_type": "markdown",
   "id": "f00ac036",
   "metadata": {},
   "source": [
    "<h2>Set Test and Training Set</h2>\n"
   ]
  },
  {
   "cell_type": "code",
   "execution_count": 91,
   "id": "6ef6c197",
   "metadata": {},
   "outputs": [],
   "source": [
    "#X is the data, y is the target\n",
    "#data is already preshuffled and split for us\n",
    "#first 60,000 is traing, last 10,000 \n",
    "X_train, X_test, y_train, y_test = X[:60000], X[60000:], y[:60000], y[60000:]"
   ]
  },
  {
   "cell_type": "markdown",
   "id": "b9bb9796",
   "metadata": {},
   "source": [
    "<h2>Training a Binary Classifier</h2>"
   ]
  },
  {
   "cell_type": "code",
   "execution_count": 92,
   "id": "b6b40ed5",
   "metadata": {},
   "outputs": [],
   "source": [
    "#train to see if the image IS a 5, or NOT a 5\n",
    "#target vectors\n",
    "\n",
    "#see which is True for 5, False for not 5\n",
    "y_train_5 = (y_train == 5) \n",
    "y_test_5 = (y_test == 5)"
   ]
  },
  {
   "cell_type": "markdown",
   "id": "aaeaf36f",
   "metadata": {},
   "source": [
    "<h3>Use Stochastic Gradient Descent (SGD) classifier</h3>"
   ]
  },
  {
   "cell_type": "code",
   "execution_count": 93,
   "id": "360e5809",
   "metadata": {},
   "outputs": [
    {
     "data": {
      "text/plain": [
       "SGDClassifier(random_state=42)"
      ]
     },
     "execution_count": 93,
     "metadata": {},
     "output_type": "execute_result"
    }
   ],
   "source": [
    "from sklearn.linear_model import SGDClassifier\n",
    "\n",
    "sgd_clf = SGDClassifier(random_state=42) #usually its random but setting random state will let us reproduce results\n",
    "sgd_clf.fit(X_train, y_train_5)"
   ]
  },
  {
   "cell_type": "code",
   "execution_count": 94,
   "id": "08550a8e",
   "metadata": {},
   "outputs": [
    {
     "data": {
      "text/plain": [
       "array([ True])"
      ]
     },
     "execution_count": 94,
     "metadata": {},
     "output_type": "execute_result"
    }
   ],
   "source": [
    "#detect which images are number 5\n",
    "sgd_clf.predict([some_digit]) #this was X[0] which was a 5"
   ]
  },
  {
   "cell_type": "markdown",
   "id": "16b83fa9",
   "metadata": {},
   "source": [
    "<h2>Performance Measures</h2>"
   ]
  },
  {
   "cell_type": "markdown",
   "id": "13eaff28",
   "metadata": {},
   "source": [
    "<h3>Measuring Accuracy Using Cross-Validation</h3>"
   ]
  },
  {
   "cell_type": "code",
   "execution_count": 95,
   "id": "8af5e178",
   "metadata": {},
   "outputs": [
    {
     "name": "stdout",
     "output_type": "stream",
     "text": [
      "0.9669\n",
      "0.91625\n",
      "0.96785\n"
     ]
    }
   ],
   "source": [
    "from sklearn.model_selection import StratifiedKFold\n",
    "from sklearn.base import clone\n",
    "\n",
    "#stratified sampling\n",
    "skfolds = StratifiedKFold(n_splits=3, shuffle=True, random_state=42)\n",
    "\n",
    "for train_index, test_index in skfolds.split(X_train, y_train_5):\n",
    "    #create clone of classifier\n",
    "    clone_clf = clone(sgd_clf)\n",
    "    \n",
    "    #train the clone on the folds\n",
    "    X_train_folds = X_train[train_index]\n",
    "    y_train_folds = y_train_5[train_index]\n",
    "    \n",
    "    #make test fold\n",
    "    X_test_fold = X_train[test_index]\n",
    "    y_test_fold = y_train_5[test_index]\n",
    "\n",
    "    clone_clf.fit(X_train_folds, y_train_folds)\n",
    "    \n",
    "    #make predictions on test fold\n",
    "    y_pred = clone_clf.predict(X_test_fold)\n",
    "    \n",
    "    #get num of correct predictions\n",
    "    n_correct = sum(y_pred == y_test_fold)\n",
    "    print(n_correct / len(y_pred))  "
   ]
  },
  {
   "cell_type": "code",
   "execution_count": 96,
   "id": "c3209922",
   "metadata": {},
   "outputs": [
    {
     "data": {
      "text/plain": [
       "array([0.95035, 0.96035, 0.9604 ])"
      ]
     },
     "execution_count": 96,
     "metadata": {},
     "output_type": "execute_result"
    }
   ],
   "source": [
    "#cross val score to evaluate SGDClassifier\n",
    "from sklearn.model_selection import cross_val_score\n",
    "\n",
    "#3 folds\n",
    "cross_val_score(sgd_clf, X_train, y_train_5, cv=3, scoring=\"accuracy\")\n",
    "\n",
    "#this gives above 95% accuracy which seems good, however the data does not have a lot of 5s, and a lot of NOT 5s\n",
    "#so this is a skewed dataset"
   ]
  },
  {
   "cell_type": "markdown",
   "id": "47815f43",
   "metadata": {},
   "source": [
    "<h3>Confusion Matrix</h3>"
   ]
  },
  {
   "cell_type": "code",
   "execution_count": 97,
   "id": "0df13dc2",
   "metadata": {},
   "outputs": [],
   "source": [
    "from sklearn.model_selection import cross_val_predict\n",
    "\n",
    "#make a set of predictions on the y set to compare to actual targets\n",
    "#performs k-fold cross validation, returns predictions made on each test fold\n",
    "y_train_pred = cross_val_predict(sgd_clf, X_train, y_train_5, cv=3)"
   ]
  },
  {
   "cell_type": "code",
   "execution_count": 98,
   "id": "bf96ae95",
   "metadata": {},
   "outputs": [
    {
     "data": {
      "text/plain": [
       "array([[53892,   687],\n",
       "       [ 1891,  3530]])"
      ]
     },
     "execution_count": 98,
     "metadata": {},
     "output_type": "execute_result"
    }
   ],
   "source": [
    "from sklearn.metrics import confusion_matrix\n",
    "#get confusion matrix, pass target class and predicted class\n",
    "confusion_matrix(y_train_5, y_train_pred)"
   ]
  },
  {
   "cell_type": "code",
   "execution_count": 99,
   "id": "f3f186a6",
   "metadata": {},
   "outputs": [
    {
     "data": {
      "text/plain": [
       "array([[54579,     0],\n",
       "       [    0,  5421]])"
      ]
     },
     "execution_count": 99,
     "metadata": {},
     "output_type": "execute_result"
    }
   ],
   "source": [
    "#make a perfect \"prediction\" to see its confusion matrix\n",
    "y_train_perfect_predictions = y_train_5\n",
    "confusion_matrix(y_train_5, y_train_perfect_predictions)\n"
   ]
  },
  {
   "cell_type": "markdown",
   "id": "61dbde83",
   "metadata": {},
   "source": [
    "<h3>Precision and Recall</h3>"
   ]
  },
  {
   "cell_type": "code",
   "execution_count": 100,
   "id": "7c1bc4fc",
   "metadata": {},
   "outputs": [
    {
     "data": {
      "text/plain": [
       "0.7325171197343846"
      ]
     },
     "execution_count": 100,
     "metadata": {},
     "output_type": "execute_result"
    }
   ],
   "source": [
    "#check the accuracy of the classifier with the metric, F1 score\n",
    "from sklearn.metrics import f1_score\n",
    "f1_score(y_train_5, y_train_pred)"
   ]
  },
  {
   "cell_type": "markdown",
   "id": "fbe6d873",
   "metadata": {},
   "source": [
    "<h3>Precision/Recall Trade-off</h3>"
   ]
  },
  {
   "cell_type": "code",
   "execution_count": 101,
   "id": "8f98525b",
   "metadata": {},
   "outputs": [
    {
     "data": {
      "text/plain": [
       "array([False])"
      ]
     },
     "execution_count": 101,
     "metadata": {},
     "output_type": "execute_result"
    }
   ],
   "source": [
    "#cannot change the threshold in sklearn directly\n",
    "#must call decision_function() instead which returns a decision score which is used to make predictions\n",
    "#so can set a threshold to make predictions based on those scores\n",
    "\n",
    "y_scores = sgd_clf.decision_function([some_digit])\n",
    "\n",
    "#threshold is a score of 8000\n",
    "threshold = 8000\n",
    "\n",
    "#let us know if score is above the threshold\n",
    "y_some_digit_pred = (y_scores > threshold)\n",
    "y_some_digit_pred"
   ]
  },
  {
   "cell_type": "markdown",
   "id": "36bc5ea4",
   "metadata": {},
   "source": [
    "<h3>Deciding What Threshold to Use</h3>"
   ]
  },
  {
   "cell_type": "code",
   "execution_count": 102,
   "id": "6888fd2d",
   "metadata": {},
   "outputs": [],
   "source": [
    "#use cross_val_predict to get decision scores of all instances in training set\n",
    "y_scores = cross_val_predict(sgd_clf, X_train, y_train_5, cv=3, method=\"decision_function\")"
   ]
  },
  {
   "cell_type": "code",
   "execution_count": 103,
   "id": "b0d0590a",
   "metadata": {},
   "outputs": [],
   "source": [
    "#compute precision and recall for all possible thresholds, display a precision recall curve\n",
    "from sklearn.metrics import precision_recall_curve\n",
    "\n",
    "precisions, recalls, thresholds = precision_recall_curve(y_train_5, y_scores) #scores from [17]"
   ]
  },
  {
   "cell_type": "code",
   "execution_count": 104,
   "id": "e95281bc",
   "metadata": {},
   "outputs": [
    {
     "data": {
      "image/png": "[encoded data removed]",
      "text/plain": [
       "<Figure size 576x288 with 1 Axes>"
      ]
     },
     "metadata": {
      "needs_background": "light"
     },
     "output_type": "display_data"
    }
   ],
   "source": [
    "#plot the precision and recall as functions of the threshold value\n",
    "def plot_precision_recall_vs_threshold(precisions, recalls, thresholds):\n",
    "    #b-- is blue dashed dashed\n",
    "    plt.plot(thresholds, precisions[:-1], \"b--\", label=\"Precision\")\n",
    "    plt.plot(thresholds, recalls[:-1], \"g-\", label=\"Recall\")    \n",
    "    \n",
    "    plt.legend(loc=\"center right\", fontsize=16) # Not shown in the book\n",
    "    plt.xlabel(\"Threshold\", fontsize=16)        # Not shown\n",
    "    plt.grid(True)                              # Not shown\n",
    "    plt.axis([-50000, 50000, 0, 1])             # Not shown\n",
    "\n",
    "#as recall goes up, precision may sometimes go down\n",
    "#high threshold has high precision and low recall\n",
    "#low threshold has high recall but low precision\n",
    "\n",
    "\n",
    "recall_90_precision = recalls[np.argmax(precisions >= 0.90)]\n",
    "\n",
    "#find the threshold required for 90% precision (y axis)\n",
    "threshold_90_precision = thresholds[np.argmax(precisions >= 0.90)]\n",
    "\n",
    "#just for graph styling\n",
    "plt.figure(figsize=(8, 4))                                                                  # Not shown\n",
    "plot_precision_recall_vs_threshold(precisions, recalls, thresholds)\n",
    "plt.plot([threshold_90_precision, threshold_90_precision], [0., 0.9], \"r:\")                 # Not shown\n",
    "plt.plot([-50000, threshold_90_precision], [0.9, 0.9], \"r:\")                                # Not shown\n",
    "plt.plot([-50000, threshold_90_precision], [recall_90_precision, recall_90_precision], \"r:\")# Not shown\n",
    "plt.plot([threshold_90_precision], [0.9], \"ro\")                                             # Not shown\n",
    "plt.plot([threshold_90_precision], [recall_90_precision], \"ro\")                             # Not shown\n",
    "plt.show()"
   ]
  },
  {
   "cell_type": "code",
   "execution_count": 105,
   "id": "5d9d5210",
   "metadata": {},
   "outputs": [],
   "source": [
    "#find the threshold required for 90% precision (y axis) cont.\n",
    "#find the index of the 90% precision max value, want the first case that is True\n",
    "threshold_90_precision = thresholds[np.argmax(precisions >= 0.90)]\n",
    "\n",
    "#make prediction on training set where the y scores are greater than the threshold for 90%\n",
    "y_train_pred_90 = (y_scores >= threshold_90_precision)"
   ]
  },
  {
   "cell_type": "code",
   "execution_count": 106,
   "id": "cc64fafc",
   "metadata": {},
   "outputs": [
    {
     "name": "stdout",
     "output_type": "stream",
     "text": [
      "Precision score:  0.9000345901072293\n",
      "Recall score:  0.4799852425751706\n"
     ]
    }
   ],
   "source": [
    "from sklearn.metrics import precision_score, recall_score\n",
    "#check the predictions precision and recall values if it did the 90% precision classifier correctly\n",
    "print(\"Precision score: \", precision_score(y_train_5, y_train_pred_90)) #is correct\n",
    "print(\"Recall score: \", recall_score(y_train_5, y_train_pred_90))"
   ]
  },
  {
   "cell_type": "markdown",
   "id": "161e93b1",
   "metadata": {},
   "source": [
    "<h3>The Receiver Operating Characteristic (ROC) Curve</h3>"
   ]
  },
  {
   "cell_type": "code",
   "execution_count": 107,
   "id": "ba2bb443",
   "metadata": {},
   "outputs": [],
   "source": [
    "#ROC plots true postive rate (recall) against false positive rate\n",
    "from sklearn.metrics import roc_curve\n",
    "\n",
    "fpr, tpr, thresholds = roc_curve(y_train_5, y_scores)"
   ]
  },
  {
   "cell_type": "code",
   "execution_count": 108,
   "id": "01545cd7",
   "metadata": {},
   "outputs": [
    {
     "data": {
      "image/png": "[encoded data removed]",
      "text/plain": [
       "<Figure size 576x432 with 1 Axes>"
      ]
     },
     "metadata": {
      "needs_background": "light"
     },
     "output_type": "display_data"
    }
   ],
   "source": [
    "#taken from solution as the code is not provided in the book\n",
    "def plot_roc_curve(fpr, tpr, label=None):\n",
    "    plt.plot(fpr, tpr, linewidth=2, label=label)\n",
    "    plt.plot([0, 1], [0, 1], 'k--') # dashed diagonal\n",
    "    plt.axis([0, 1, 0, 1])                                    # Not shown in the book\n",
    "    plt.xlabel('False Positive Rate (Fall-Out)', fontsize=16) # Not shown\n",
    "    plt.ylabel('True Positive Rate (Recall)', fontsize=16)    # Not shown\n",
    "    plt.grid(True)                                            # Not shown\n",
    "\n",
    "plt.figure(figsize=(8, 6))                                    # Not shown\n",
    "plot_roc_curve(fpr, tpr)#call the func\n",
    "fpr_90 = fpr[np.argmax(tpr >= recall_90_precision)]           # Not shown\n",
    "plt.plot([fpr_90, fpr_90], [0., recall_90_precision], \"r:\")   # Not shown\n",
    "plt.plot([0.0, fpr_90], [recall_90_precision, recall_90_precision], \"r:\")  # Not shown\n",
    "plt.plot([fpr_90], [recall_90_precision], \"ro\")               # Not shown\n",
    "\n",
    "plt.show()\n",
    "\n",
    "#higher the recall, higher the false positives produced\n",
    "#dashed line represents ROC curve of a purely random classifier, want to stay away as far as possible from the line\n",
    "#go towards the top left like this one"
   ]
  },
  {
   "cell_type": "code",
   "execution_count": 109,
   "id": "b89a6dd7",
   "metadata": {},
   "outputs": [
    {
     "data": {
      "text/plain": [
       "0.9604938554008616"
      ]
     },
     "execution_count": 109,
     "metadata": {},
     "output_type": "execute_result"
    }
   ],
   "source": [
    "#compare classifiers by measuring the AUC\n",
    "from sklearn.metrics import roc_auc_score\n",
    "roc_auc_score(y_train_5, y_scores)"
   ]
  },
  {
   "cell_type": "markdown",
   "id": "3c892886",
   "metadata": {},
   "source": [
    "<h3>Train Another Classifier (Random Forest Classifier) and Compare to SGD Classifier<h3>"
   ]
  },
  {
   "cell_type": "code",
   "execution_count": 110,
   "id": "0d65fd56",
   "metadata": {},
   "outputs": [],
   "source": [
    "#random forest does not have decision function so we use predict_proba instead\n",
    "from sklearn.ensemble import RandomForestClassifier\n",
    "\n",
    "#make instance of random forest classifier, set the state to have reproducible results\n",
    "forest_clf = RandomForestClassifier(random_state=42)\n",
    "\n",
    "y_probas_forest = cross_val_predict(forest_clf, X_train, y_train_5, cv=3, method=\"predict_proba\")"
   ]
  },
  {
   "cell_type": "code",
   "execution_count": 111,
   "id": "74e1260d",
   "metadata": {},
   "outputs": [
    {
     "data": {
      "image/png": "[encoded data removed]",
      "text/plain": [
       "<Figure size 432x288 with 1 Axes>"
      ]
     },
     "metadata": {
      "needs_background": "light"
     },
     "output_type": "display_data"
    }
   ],
   "source": [
    "#plot both curves to see how they compare\n",
    "#roc curve can be given class probabilities instead of scores\n",
    "y_scores_forest = y_probas_forest[:, 1]   # score = proba of positive class\n",
    "fpr_forest, tpr_forest, thresholds_forest = roc_curve(y_train_5,y_scores_forest)\n",
    "plt.plot(fpr, tpr, \"b:\", label=\"SGD\")\n",
    "plot_roc_curve(fpr_forest, tpr_forest, \"Random Forest\")\n",
    "plt.legend(loc=\"lower right\")\n",
    "plt.show()\n",
    "\n",
    "#random forest is better, farther from the purely random classifier"
   ]
  },
  {
   "cell_type": "code",
   "execution_count": 112,
   "id": "ad746dd2",
   "metadata": {},
   "outputs": [
    {
     "data": {
      "text/plain": [
       "0.9983436731328145"
      ]
     },
     "execution_count": 112,
     "metadata": {},
     "output_type": "execute_result"
    }
   ],
   "source": [
    "#check the roc AUC score as well to see if random forest is better\n",
    "roc_auc_score(y_train_5, y_scores_forest) #it is infact better, the SGD has 0.96"
   ]
  },
  {
   "cell_type": "markdown",
   "id": "12c8a345",
   "metadata": {},
   "source": [
    "<h2>Multiclass Classification</h2>"
   ]
  },
  {
   "cell_type": "markdown",
   "id": "46b3232e",
   "metadata": {},
   "source": [
    "<h3>Support Vector Machine Classifier</h3>"
   ]
  },
  {
   "cell_type": "code",
   "execution_count": 113,
   "id": "2c039d11",
   "metadata": {},
   "outputs": [
    {
     "data": {
      "text/plain": [
       "array([5], dtype=uint8)"
      ]
     },
     "execution_count": 113,
     "metadata": {},
     "output_type": "execute_result"
    }
   ],
   "source": [
    "#sklearn detects when we try to use a binary classification algo for multiclass classification task and \n",
    "#automatically runs OvR or OvO depending on algorithim\n",
    "\n",
    "#using Support Vector Machine classifier\n",
    "from sklearn.svm import SVC\n",
    "\n",
    "svm_clf = SVC()\n",
    "svm_clf.fit(X_train, y_train) # y_train, not y_train_5, all classes\n",
    "svm_clf.predict([some_digit])\n",
    "\n",
    "#does OvO"
   ]
  },
  {
   "cell_type": "code",
   "execution_count": 114,
   "id": "d36d208a",
   "metadata": {},
   "outputs": [
    {
     "data": {
      "text/plain": [
       "array([[ 1.72501977,  2.72809088,  7.2510018 ,  8.3076379 , -0.31087254,\n",
       "         9.3132482 ,  1.70975103,  2.76765202,  6.23049537,  4.84771048]])"
      ]
     },
     "execution_count": 114,
     "metadata": {},
     "output_type": "execute_result"
    }
   ],
   "source": [
    "some_digit_scores = svm_clf.decision_function([some_digit])\n",
    "some_digit_scores #some digit is '5' which is the highest score of 9.3"
   ]
  },
  {
   "cell_type": "code",
   "execution_count": 115,
   "id": "2ee785c6",
   "metadata": {},
   "outputs": [
    {
     "data": {
      "text/plain": [
       "10"
      ]
     },
     "execution_count": 115,
     "metadata": {},
     "output_type": "execute_result"
    }
   ],
   "source": [
    "#can specify sklearn to use OvO or OvR explicitly rather than it deciding itself\n",
    "from sklearn.multiclass import OneVsRestClassifier\n",
    "\n",
    "ovr_clf = OneVsRestClassifier(SVC()) #we pass the SVC into ctor of OvO or OvR\n",
    "ovr_clf.fit(X_train, y_train)\n",
    "ovr_clf.predict([some_digit])\n",
    "\n",
    "len(ovr_clf.estimators_)\n"
   ]
  },
  {
   "cell_type": "markdown",
   "id": "8b5784d7",
   "metadata": {},
   "source": [
    "<h3>SGD Classifier</h3>"
   ]
  },
  {
   "cell_type": "code",
   "execution_count": 116,
   "id": "fed35312",
   "metadata": {},
   "outputs": [
    {
     "data": {
      "text/plain": [
       "array([3], dtype=uint8)"
      ]
     },
     "execution_count": 116,
     "metadata": {},
     "output_type": "execute_result"
    }
   ],
   "source": [
    "#similar steps to train as before\n",
    "sgd_clf.fit(X_train, y_train) #fit\n",
    "sgd_clf.predict([some_digit]) #predict '5'\n",
    "\n",
    "#uses OvR under the hood"
   ]
  },
  {
   "cell_type": "code",
   "execution_count": 117,
   "id": "1e865d8b",
   "metadata": {},
   "outputs": [
    {
     "data": {
      "text/plain": [
       "array([[-31893.03095419, -34419.69069632,  -9530.63950739,\n",
       "          1823.73154031, -22320.14822878,  -1385.80478895,\n",
       "        -26188.91070951, -16147.51323997,  -4604.35491274,\n",
       "        -12050.767298  ]])"
      ]
     },
     "execution_count": 117,
     "metadata": {},
     "output_type": "execute_result"
    }
   ],
   "source": [
    "#check the score of '5' to see how well it did\n",
    "sgd_clf.decision_function([some_digit])\n",
    "\n",
    "#most of the scores are negative which is good, the 5th index is '5' and it has a high score which is good as well\n"
   ]
  },
  {
   "cell_type": "code",
   "execution_count": 118,
   "id": "dc80a1f7",
   "metadata": {},
   "outputs": [
    {
     "data": {
      "text/plain": [
       "array([0.87365, 0.85835, 0.8689 ])"
      ]
     },
     "execution_count": 118,
     "metadata": {},
     "output_type": "execute_result"
    }
   ],
   "source": [
    "#3 was a little high, classifer should be evaluated\n",
    "cross_val_score(sgd_clf, X_train, y_train, cv=3, scoring=\"accuracy\")"
   ]
  },
  {
   "cell_type": "code",
   "execution_count": null,
   "id": "fa6e9d22",
   "metadata": {},
   "outputs": [],
   "source": [
    "#decent accuracy, can scale the inputs to get higher accuracy\n",
    "from sklearn.preprocessing import StandardScaler\n",
    "scaler = StandardScaler()\n",
    "X_train_scaled = scaler.fit_transform(X_train.astype(np.float64))\n",
    "cross_val_score(sgd_clf, X_train_scaled, y_train, cv=3, scoring=\"accuracy\")"
   ]
  },
  {
   "cell_type": "markdown",
   "id": "15dc7c35",
   "metadata": {},
   "source": [
    "<h2>Error Analysis</h2>"
   ]
  },
  {
   "cell_type": "code",
   "execution_count": null,
   "id": "70031f11",
   "metadata": {},
   "outputs": [],
   "source": [
    "#improve model (SGD) by analyzing the types of errors its making\n",
    "#check confusion matrix\n",
    "#using sgd classifier, the scaled data, 3 folds\n",
    "y_train_pred = cross_val_predict(sgd_clf, X_train_scaled, y_train, cv=3)\n",
    "\n",
    "conf_mx = confusion_matrix(y_train, y_train_pred)\n",
    "conf_mx"
   ]
  },
  {
   "cell_type": "code",
   "execution_count": null,
   "id": "88e76252",
   "metadata": {},
   "outputs": [],
   "source": [
    "#plot the image to see a better representation\n",
    "plt.matshow(conf_mx, cmap=plt.cm.gray)\n",
    "plt.show()\n",
    "\n",
    "#the light diagonal represents the number itself, ex 5 is row (class) 5 col (predict class) 5, however its a little darker\n",
    "\n",
    "#this means either there isnt enough data for 5 or classifier is not performing as well on 5\n",
    "# *outputs were taking too long*"
   ]
  },
  {
   "cell_type": "markdown",
   "id": "dbb7fef4",
   "metadata": {},
   "source": [
    "<h2>Multilabel Classification</h2>"
   ]
  },
  {
   "cell_type": "markdown",
   "id": "3478d1ba",
   "metadata": {},
   "source": [
    "<h3>K Nearest Neighbors Classifier</h3>"
   ]
  },
  {
   "cell_type": "code",
   "execution_count": null,
   "id": "045189ea",
   "metadata": {},
   "outputs": [],
   "source": [
    "#goal is to have a classifier that can detect if a number is large (>=7) and if its odd\n",
    "from sklearn.neighbors import KNeighborsClassifier\n",
    "\n",
    "y_train_large = (y_train >= 7) #large nums\n",
    "y_train_odd = (y_train % 2 == 1) #odd nums\n",
    "y_multilabel = np.c_[y_train_large, y_train_odd] #creats a multilabel array which has the 2 target labels for each image\n",
    "\n",
    "#instance of KNN which SUPPORTS multilabel classification\n",
    "knn_clf = KNeighborsClassifier()\n",
    "knn_clf.fit(X_train, y_multilabel)"
   ]
  },
  {
   "cell_type": "code",
   "execution_count": null,
   "id": "46ea2548",
   "metadata": {},
   "outputs": [],
   "source": [
    "#make prediction for '5'\n",
    "knn_clf.predict([some_digit])\n",
    "\n",
    "#false for large number and true for odd number"
   ]
  },
  {
   "cell_type": "code",
   "execution_count": null,
   "id": "0197b34f",
   "metadata": {},
   "outputs": [],
   "source": [
    "#evaluate the classifier, metric can be the F1 score across all labels\n",
    "y_train_knn_pred = cross_val_predict(knn_clf, X_train, y_multilabel, cv=3)\n",
    "f1_score(y_multilabel, y_train_knn_pred, average=\"macro\")"
   ]
  },
  {
   "cell_type": "markdown",
   "id": "21f48fcc",
   "metadata": {},
   "source": [
    "<h2>Multioutput Classification</h2>"
   ]
  },
  {
   "cell_type": "code",
   "execution_count": null,
   "id": "aede1b23",
   "metadata": {},
   "outputs": [],
   "source": [
    "#going to try to remove noise from an image\n",
    "#since each label is a pixel (multilabel) and each label can have a value of 0-255, it is multioutput classification system\n",
    "\n",
    "#going to make images noisy using random ints\n",
    "noise = np.random.randint(0, 100, (len(X_train), 784))\n",
    "\n",
    "#modify training set\n",
    "X_train_mod = X_train + noise\n",
    "\n",
    "#modify test set\n",
    "noise = np.random.randint(0, 100, (len(X_test), 784))\n",
    "X_test_mod = X_test + noise\n",
    "\n",
    "#these are not noisy images\n",
    "y_train_mod = X_train\n",
    "y_test_mod = X_test"
   ]
  },
  {
   "cell_type": "code",
   "execution_count": null,
   "id": "f5257061",
   "metadata": {},
   "outputs": [],
   "source": [
    "#func to plot a digit\n",
    "def plot_digit(data):\n",
    "    image = data.reshape(28, 28)\n",
    "    plt.imshow(image, cmap = mpl.cm.binary,\n",
    "               interpolation=\"nearest\")\n",
    "    plt.axis(\"off\")"
   ]
  },
  {
   "cell_type": "code",
   "execution_count": null,
   "id": "25d4888c",
   "metadata": {},
   "outputs": [],
   "source": [
    "#check images now\n",
    "plt.subplot(121); plot_digit(X_test_mod[0]) #noisy\n",
    "plt.subplot(122); plot_digit(y_test_mod[0]) #not noisy\n",
    "\n",
    "plt.show()"
   ]
  },
  {
   "cell_type": "code",
   "execution_count": null,
   "id": "d1efc59f",
   "metadata": {},
   "outputs": [],
   "source": [
    "#train classifier using KNN\n",
    "knn_clf.fit(X_train_mod, y_train_mod)\n",
    "clean_digit = knn_clf.predict([X_test_mod[0]])\n",
    "\n",
    "#lets see the cleaned image\n",
    "plot_digit(clean_digit) #cleaned!"
   ]
  },
  {
   "cell_type": "code",
   "execution_count": null,
   "id": "a8d8b913",
   "metadata": {},
   "outputs": [],
   "source": []
  }
 ],
 "metadata": {
  "kernelspec": {
   "display_name": "Python 3 (ipykernel)",
   "language": "python",
   "name": "python3"
  },
  "language_info": {
   "codemirror_mode": {
    "name": "ipython",
    "version": 3
   },
   "file_extension": ".py",
   "mimetype": "text/x-python",
   "name": "python",
   "nbconvert_exporter": "python",
   "pygments_lexer": "ipython3",
   "version": "3.9.7"
  }
 },
 "nbformat": 4,
 "nbformat_minor": 5
}
