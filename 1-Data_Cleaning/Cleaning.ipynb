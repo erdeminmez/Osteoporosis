{
 "cells": [
  {
   "cell_type": "code",
   "execution_count": 2,
   "id": "1a1cea20",
   "metadata": {},
   "outputs": [
    {
     "name": "stdout",
     "output_type": "stream",
     "text": [
      "Collecting sweetviz\n",
      "  Using cached sweetviz-2.1.3-py3-none-any.whl (15.1 MB)\n",
      "Requirement already satisfied: matplotlib>=3.1.3 in c:\\users\\alexc\\anaconda3\\lib\\site-packages (from sweetviz) (3.3.4)\n",
      "Requirement already satisfied: numpy>=1.16.0 in c:\\users\\alexc\\anaconda3\\lib\\site-packages (from sweetviz) (1.19.5)\n",
      "Requirement already satisfied: scipy>=1.3.2 in c:\\users\\alexc\\anaconda3\\lib\\site-packages (from sweetviz) (1.6.2)\n",
      "Collecting importlib-resources>=1.2.0\n",
      "  Using cached importlib_resources-5.4.0-py3-none-any.whl (28 kB)\n",
      "Requirement already satisfied: pandas!=1.0.0,!=1.0.1,!=1.0.2,>=0.25.3 in c:\\users\\alexc\\anaconda3\\lib\\site-packages (from sweetviz) (1.1.5)\n",
      "Requirement already satisfied: jinja2>=2.11.1 in c:\\users\\alexc\\anaconda3\\lib\\site-packages (from sweetviz) (2.11.3)\n",
      "Requirement already satisfied: tqdm>=4.43.0 in c:\\users\\alexc\\anaconda3\\lib\\site-packages (from sweetviz) (4.45.0)\n",
      "Requirement already satisfied: zipp>=3.1.0 in c:\\users\\alexc\\anaconda3\\lib\\site-packages (from importlib-resources>=1.2.0->sweetviz) (3.4.1)\n",
      "Requirement already satisfied: MarkupSafe>=0.23 in c:\\users\\alexc\\anaconda3\\lib\\site-packages (from jinja2>=2.11.1->sweetviz) (1.1.1)\n",
      "Requirement already satisfied: kiwisolver>=1.0.1 in c:\\users\\alexc\\anaconda3\\lib\\site-packages (from matplotlib>=3.1.3->sweetviz) (1.3.1)\n",
      "Requirement already satisfied: python-dateutil>=2.1 in c:\\users\\alexc\\anaconda3\\lib\\site-packages (from matplotlib>=3.1.3->sweetviz) (2.8.1)\n",
      "Requirement already satisfied: cycler>=0.10 in c:\\users\\alexc\\anaconda3\\lib\\site-packages (from matplotlib>=3.1.3->sweetviz) (0.10.0)\n",
      "Requirement already satisfied: pillow>=6.2.0 in c:\\users\\alexc\\anaconda3\\lib\\site-packages (from matplotlib>=3.1.3->sweetviz) (8.2.0)\n",
      "Requirement already satisfied: pyparsing!=2.0.4,!=2.1.2,!=2.1.6,>=2.0.3 in c:\\users\\alexc\\anaconda3\\lib\\site-packages (from matplotlib>=3.1.3->sweetviz) (2.4.7)\n",
      "Requirement already satisfied: six in c:\\users\\alexc\\anaconda3\\lib\\site-packages (from cycler>=0.10->matplotlib>=3.1.3->sweetviz) (1.15.0)\n",
      "Requirement already satisfied: pytz>=2017.2 in c:\\users\\alexc\\anaconda3\\lib\\site-packages (from pandas!=1.0.0,!=1.0.1,!=1.0.2,>=0.25.3->sweetviz) (2021.1)\n",
      "Installing collected packages: importlib-resources, sweetviz\n",
      "Successfully installed importlib-resources-5.4.0 sweetviz-2.1.3\n"
     ]
    }
   ],
   "source": [
    "! pip install sweetviz"
   ]
  },
  {
   "cell_type": "code",
   "execution_count": 3,
   "id": "ca4a04a5",
   "metadata": {},
   "outputs": [],
   "source": [
    "import sweetviz\n",
    "import logging\n",
    "import pandas as pd\n",
    "import numpy as np\n",
    "from pathlib import Path\n",
    "import sys\n",
    "import os\n",
    "import sys"
   ]
  },
  {
   "cell_type": "code",
   "execution_count": 28,
   "id": "795f691b",
   "metadata": {},
   "outputs": [],
   "source": [
    "\n",
    "\n",
    "# Use logging commands instead of print\n",
    "logging.basicConfig(level=logging.INFO)\n",
    "\n",
    "# Create the global variables\n",
    "df = []\n",
    "\n",
    "# Used when removing duplicate rows\n",
    "patient_id_col = ['PatientId']\n",
    "\n",
    "# We will fill null cells with mean\n",
    "numerical_cols = ['PatientAge',\n",
    "                  'bmdtest_height',\n",
    "                  'bmdtest_weight',\n",
    "                  'bmdtest_tscore_fn']\n",
    "\n",
    "# We will fill null cells with mode\n",
    "nominal_cols = [\n",
    "    'PatientGender',\n",
    "    'parentbreak',\n",
    "    'ptunsteady',\n",
    "    'alcohol',\n",
    "    'wasfractdue2fall',\n",
    "    'ptfall',\n",
    "    'oralster',\n",
    "    'smoke'\n",
    "]\n",
    "\n",
    "# We will fill null cells with 0\n",
    "special_nominal_cols = ['arthritis',\n",
    "                        'cancer',\n",
    "                        'diabetes',\n",
    "                        'heartdisease',\n",
    "                        'respdisease',\n",
    "                        'howbreak',\n",
    "                        'hip',\n",
    "                        'ankle',\n",
    "                        'clavicle',\n",
    "                        'elbow',\n",
    "                        'femur',\n",
    "                        'spine',\n",
    "                        'wrist',\n",
    "                        'shoulder',\n",
    "                        'tibfib'\n",
    "                        ]\n",
    "\n",
    "\n",
    "def set_directory(temp_path):\n",
    "    # detect the current working directory and add the sub directory\n",
    "    main_path = os.getcwd()\n",
    "    absolute_path = main_path + temp_path\n",
    "    try:\n",
    "        os.mkdir(absolute_path)\n",
    "    except OSError:\n",
    "        logging.error(\"Creation of the directory %s failed. Folder already exists.\" % absolute_path)\n",
    "    else:\n",
    "        logging.info(\"Successfully created the directory %s \" % absolute_path)\n",
    "\n",
    "\n",
    "# Remove the duplicates using the Patient ID and Baseline ID. ID's are unique, meaning we shouldn't have duplicates\n",
    "def remove_duplicates_with_id():\n",
    "    try:\n",
    "        df.drop_duplicates(subset=['PatientId'], inplace=True)\n",
    "        df.reset_index(drop=True, inplace=True)\n",
    "\n",
    "    except ValueError as er:\n",
    "        logging.error(str(er))\n",
    "\n",
    "\n",
    "# Weight values are in kilograms\n",
    "def lbs_to_kg(weight_value):\n",
    "    if weight_value is not None:\n",
    "        weightKg = weight_value * 0.45359237\n",
    "        return weightKg\n",
    "\n",
    "\n",
    "# Height and Weight values are in kilograms\n",
    "def calculate_bmi(idx, height_value, weight_value):\n",
    "    try:\n",
    "        return weight_value / ((height_value / 100) ** 2)\n",
    "    except ValueError as er:\n",
    "        logging.error(str(er))\n",
    "        logging.error(f'Unable to calculate BMI for patient id = {idx}')\n",
    "\n",
    "\n",
    "# Converting Values into Metric\n",
    "def data_to_metric(idx, height_value, weight_value):\n",
    "    try:\n",
    "\n",
    "        heightCm = 0\n",
    "        weightKg = 0\n",
    "        isMetric = True  # Flag is used when checking if the weight is metric\n",
    "\n",
    "        # Lets convert the height\n",
    "        if 1 < height_value < 2.2:\n",
    "            heightCm = height_value * 100  # Convert METERS to CM\n",
    "\n",
    "        elif 50 < height_value < 84:\n",
    "            # Height value is too high to be METERS or FEET and too low to be CM.\n",
    "            # Assume the height is INCHES and convert to CM\n",
    "            heightCm = height_value * 2.54\n",
    "            isMetric = False\n",
    "\n",
    "        elif height_value > 125:\n",
    "            # The height is probably in CM\n",
    "            heightCm = height_value\n",
    "\n",
    "        # Lets convert the weight\n",
    "        if isMetric:\n",
    "            weightKg = weight_value\n",
    "        else:\n",
    "            weightKg = lbs_to_kg(weight_value)\n",
    "\n",
    "        return heightCm, weightKg\n",
    "\n",
    "    except ValueError as er:\n",
    "        logging.error(str(er))\n",
    "        logging.error(f'Unable to convert height and weight to metric for patient id = {idx}')\n",
    "\n",
    "\n",
    "def fill_bmi_with_mean():\n",
    "    try:\n",
    "        df['bmi'].replace(0, df['bmi'].mean(), inplace=True)\n",
    "        df['bmi'].fillna((df['bmi'].mean()), inplace=True)\n",
    "    except ValueError as er:\n",
    "        logging.error(str(er))\n",
    "\n",
    "\n",
    "def fill_numerical_with_mean():\n",
    "    for column in numerical_cols:\n",
    "        try:\n",
    "            mean = df[column].mean()\n",
    "            df[column].fillna(mean, inplace=True)\n",
    "            df[column].replace(0, mean, inplace=True)\n",
    "        except ValueError as er:\n",
    "            logging.error(str(er))\n",
    "\n",
    "\n",
    "def fill_nominal_with_mode():\n",
    "    for column in nominal_cols:\n",
    "        try:\n",
    "            mode = df[column].mode()[0]\n",
    "            df[column].fillna(mode, inplace=True)\n",
    "        except ValueError as er:\n",
    "            logging.error(str(er))\n",
    "\n",
    "\n",
    "def fill_special_nominal_with_zero():\n",
    "    for column in special_nominal_cols:\n",
    "        try:\n",
    "            df[column].fillna(0, inplace=True)\n",
    "        except ValueError as er:\n",
    "            logging.error(str(er))\n",
    "\n",
    "\n",
    "def create_html_report(data, save_path):\n",
    "    try:\n",
    "        logging.info(f'Creating sweetviz graph for {save_path}')\n",
    "        temp_analysis = sweetviz.analyze(data)\n",
    "        temp_analysis.show_html(save_path, open_browser=False)\n",
    "\n",
    "    except ValueError as er:\n",
    "        logging.error(str(er))\n",
    "\n"
   ]
  },
  {
   "cell_type": "code",
   "execution_count": 39,
   "id": "7044d910",
   "metadata": {},
   "outputs": [
    {
     "name": "stderr",
     "output_type": "stream",
     "text": [
      "INFO:root:Loading File\n",
      "\n",
      "INFO:root:Setting Directories\n",
      "\n",
      "ERROR:root:Creation of the directory C:\\Users\\alexc\\Pictures\\Main_Osteoporosis\\Osteoporosis\\1-Data_CleaningOutput failed. Folder already exists.\n",
      "ERROR:root:Creation of the directory C:\\Users\\alexc\\Pictures\\Main_Osteoporosis\\Osteoporosis\\1-Data_CleaningOutput/pre_cleaning_results failed. Folder already exists.\n",
      "ERROR:root:Creation of the directory C:\\Users\\alexc\\Pictures\\Main_Osteoporosis\\Osteoporosis\\1-Data_CleaningOutput/analysis_results failed. Folder already exists.\n",
      "INFO:root:Selecting features from Data\n",
      "\n",
      "INFO:root:Performing analysis on the unclean data\n",
      "\n",
      "INFO:root:Creating sweetviz graph for Output/pre_cleaning_results/pre_analysis.html\n"
     ]
    },
    {
     "data": {
      "application/vnd.jupyter.widget-view+json": {
       "model_id": "427d0a25dd1246f5b04845e032b8d6a5",
       "version_major": 2,
       "version_minor": 0
      },
      "text/plain": [
       "HBox(children=(FloatProgress(value=0.0, layout=Layout(flex='2'), max=29.0), HTML(value='')), layout=Layout(dis…"
      ]
     },
     "metadata": {},
     "output_type": "display_data"
    },
    {
     "name": "stderr",
     "output_type": "stream",
     "text": [
      "INFO:root:Performing analysis on the unclean female and male data\n",
      "\n",
      "INFO:root:Creating sweetviz graph for Output/pre_cleaning_results/pre_analysis_female.html\n"
     ]
    },
    {
     "name": "stdout",
     "output_type": "stream",
     "text": [
      "\n",
      "Report Output/pre_cleaning_results/pre_analysis.html was generated.\n"
     ]
    },
    {
     "data": {
      "application/vnd.jupyter.widget-view+json": {
       "model_id": "5f4b8973c73e4cdc8e3614db121c2565",
       "version_major": 2,
       "version_minor": 0
      },
      "text/plain": [
       "HBox(children=(FloatProgress(value=0.0, layout=Layout(flex='2'), max=29.0), HTML(value='')), layout=Layout(dis…"
      ]
     },
     "metadata": {},
     "output_type": "display_data"
    },
    {
     "name": "stderr",
     "output_type": "stream",
     "text": [
      "INFO:root:Creating sweetviz graph for Output/pre_cleaning_results/pre_analysis_male.html\n"
     ]
    },
    {
     "name": "stdout",
     "output_type": "stream",
     "text": [
      "\n",
      "Report Output/pre_cleaning_results/pre_analysis_female.html was generated.\n"
     ]
    },
    {
     "data": {
      "application/vnd.jupyter.widget-view+json": {
       "model_id": "7c2b27595c814f088ce52f5c2182f9bf",
       "version_major": 2,
       "version_minor": 0
      },
      "text/plain": [
       "HBox(children=(FloatProgress(value=0.0, layout=Layout(flex='2'), max=29.0), HTML(value='')), layout=Layout(dis…"
      ]
     },
     "metadata": {},
     "output_type": "display_data"
    },
    {
     "name": "stderr",
     "output_type": "stream",
     "text": [
      "INFO:root:Removing duplicates\n",
      "\n",
      "INFO:root:Converting Height and Weight to Metric\n",
      "\n",
      "INFO:root:Imputing Data into numerical Columns\n",
      "\n",
      "INFO:root:Imputing Data into nominal Columns\n",
      "\n",
      "INFO:root:Imputing Data into special nominal Columns\n",
      "\n",
      "INFO:root:Creating BMI column\n",
      "\n",
      "INFO:root:Saving Data to CSV file\n",
      "\n",
      "INFO:root:Data saved to Clean_Data_Main.csv\n",
      "\n",
      "INFO:root:Performing Analysis on all the Data\n",
      "\n",
      "INFO:root:Creating sweetviz graph for Output/analysis_results/analysis.html\n"
     ]
    },
    {
     "name": "stdout",
     "output_type": "stream",
     "text": [
      "\n",
      "Report Output/pre_cleaning_results/pre_analysis_male.html was generated.\n"
     ]
    },
    {
     "data": {
      "application/vnd.jupyter.widget-view+json": {
       "model_id": "9942008fa11b409aa83ea96832d11bbd",
       "version_major": 2,
       "version_minor": 0
      },
      "text/plain": [
       "HBox(children=(FloatProgress(value=0.0, layout=Layout(flex='2'), max=30.0), HTML(value='')), layout=Layout(dis…"
      ]
     },
     "metadata": {},
     "output_type": "display_data"
    },
    {
     "name": "stderr",
     "output_type": "stream",
     "text": [
      "INFO:root:Performing Analysis on the female and male data\n",
      "\n",
      "INFO:root:Creating sweetviz graph for Output/analysis_results/analysis_female.html\n"
     ]
    },
    {
     "name": "stdout",
     "output_type": "stream",
     "text": [
      "\n",
      "Report Output/analysis_results/analysis.html was generated.\n"
     ]
    },
    {
     "data": {
      "application/vnd.jupyter.widget-view+json": {
       "model_id": "b1bcd3198abd4ef8af8a4306bcfd913d",
       "version_major": 2,
       "version_minor": 0
      },
      "text/plain": [
       "HBox(children=(FloatProgress(value=0.0, layout=Layout(flex='2'), max=30.0), HTML(value='')), layout=Layout(dis…"
      ]
     },
     "metadata": {},
     "output_type": "display_data"
    },
    {
     "name": "stderr",
     "output_type": "stream",
     "text": [
      "INFO:root:Creating sweetviz graph for Output/analysis_results/analysis_male.html\n"
     ]
    },
    {
     "name": "stdout",
     "output_type": "stream",
     "text": [
      "\n",
      "Report Output/analysis_results/analysis_female.html was generated.\n"
     ]
    },
    {
     "data": {
      "application/vnd.jupyter.widget-view+json": {
       "model_id": "1d0e7010d9194c548b0b6ec812654df8",
       "version_major": 2,
       "version_minor": 0
      },
      "text/plain": [
       "HBox(children=(FloatProgress(value=0.0, layout=Layout(flex='2'), max=30.0), HTML(value='')), layout=Layout(dis…"
      ]
     },
     "metadata": {},
     "output_type": "display_data"
    },
    {
     "name": "stdout",
     "output_type": "stream",
     "text": [
      "\n",
      "Report Output/analysis_results/analysis_male.html was generated.\n"
     ]
    }
   ],
   "source": [
    "# Loading the data\n",
    "try:\n",
    "    logging.info(f'Loading File\\n')\n",
    "    file_name = 'Raw.csv'\n",
    "    df = pd.read_csv(file_name)\n",
    "\n",
    "except ValueError as e:\n",
    "    logging.error(str(e))\n",
    "    quit()\n",
    "\n",
    "try:\n",
    "    logging.info(f'Setting Directories\\n')\n",
    "    set_directory('Output')\n",
    "    set_directory('Output/pre_cleaning_results')\n",
    "    set_directory('Output/analysis_results')\n",
    "except ValueError as e:\n",
    "    logging.error(str(e))\n",
    "    quit()\n",
    "\n",
    "try:\n",
    "    logging.info(\"Selecting features from Data\\n\")\n",
    "    all_columns = np.concatenate((patient_id_col, numerical_cols, nominal_cols, special_nominal_cols))\n",
    "    df = df[all_columns]\n",
    "\n",
    "except ValueError as e:\n",
    "    logging.error(str(e))\n",
    "    quit()\n",
    "\n",
    "try:\n",
    "    logging.info(f'Performing analysis on the unclean data\\n')\n",
    "    create_html_report(df, 'Output/pre_cleaning_results/pre_analysis.html')\n",
    "\n",
    "except ValueError as e:\n",
    "    logging.error(str(e))\n",
    "\n",
    "try:\n",
    "    logging.info('Performing analysis on the unclean female and male data\\n')\n",
    "    female_data = df[df['PatientGender'] == 1]\n",
    "    create_html_report(female_data, 'Output/pre_cleaning_results/pre_analysis_female.html')\n",
    "\n",
    "    male_data = df[df['PatientGender'] == 2]\n",
    "    create_html_report(male_data, 'Output/pre_cleaning_results/pre_analysis_male.html')\n",
    "\n",
    "except ValueError as e:\n",
    "    logging.error(str(e))\n",
    "    quit()\n",
    "\n",
    "try:\n",
    "    logging.info(\"Removing duplicates\\n\")\n",
    "    remove_duplicates_with_id()\n",
    "except ValueError as e:\n",
    "    logging.error(str(e))\n",
    "    quit()\n",
    "\n",
    "try:\n",
    "\n",
    "    logging.info('Converting Height and Weight to Metric\\n')\n",
    "\n",
    "    converted_data_tuple = [\n",
    "        data_to_metric(df.loc[idx, 'PatientId'],\n",
    "                       df.loc[idx, 'bmdtest_height'],\n",
    "                       df.loc[idx, 'bmdtest_weight'])\n",
    "        for idx\n",
    "        in range(len(df))]\n",
    "\n",
    "    # Get heights from tuple\n",
    "    df['bmdtest_height'] = [x[0] for x in converted_data_tuple]\n",
    "\n",
    "    # Get weights from tuple\n",
    "    df['bmdtest_weight'] = [x[1] for x in converted_data_tuple]\n",
    "\n",
    "except ValueError as e:\n",
    "    logging.error(str(e))\n",
    "    quit()\n",
    "\n",
    "try:\n",
    "    logging.info(\"Imputing Data into numerical Columns\\n\")\n",
    "    fill_numerical_with_mean()\n",
    "except ValueError as e:\n",
    "    logging.error(str(e))\n",
    "    quit()\n",
    "\n",
    "try:\n",
    "    logging.info(\"Imputing Data into nominal Columns\\n\")\n",
    "    fill_nominal_with_mode()\n",
    "except ValueError as e:\n",
    "    logging.error(str(e))\n",
    "    quit()\n",
    "\n",
    "try:\n",
    "    logging.info(\"Imputing Data into special nominal Columns\\n\")\n",
    "    fill_special_nominal_with_zero()\n",
    "except ValueError as e:\n",
    "    logging.error(str(e))\n",
    "    quit()\n",
    "\n",
    "try:\n",
    "    logging.info('Creating BMI column\\n')\n",
    "\n",
    "    df['bmi'] = 0\n",
    "    df['bmi'] = [\n",
    "        calculate_bmi(df.loc[idx, 'PatientId'],\n",
    "                      df.loc[idx, 'bmdtest_height'],\n",
    "                      df.loc[idx, 'bmdtest_weight'])\n",
    "        for idx\n",
    "        in range(len(df))]\n",
    "\n",
    "    fill_bmi_with_mean()\n",
    "except ValueError as e:\n",
    "    logging.error(str(e))\n",
    "    quit()\n",
    "\n",
    "try:\n",
    "    logging.info('Saving Data to CSV file\\n')\n",
    "\n",
    "    path = Path(\"Clean_Data_Main.csv\")\n",
    "    df.replace(r'\\s+', np.nan, regex=True)\n",
    "    df.to_csv(path, index=False)\n",
    "\n",
    "    logging.info(f'Data saved to {path}\\n')\n",
    "\n",
    "except ValueError as e:\n",
    "    logging.error(str(e))\n",
    "    quit()\n",
    "\n",
    "try:\n",
    "    logging.info('Performing Analysis on all the Data\\n')\n",
    "    create_html_report(df, 'Output/analysis_results/analysis.html')\n",
    "except ValueError as e:\n",
    "    logging.error(str(e))\n",
    "    quit()\n",
    "\n",
    "try:\n",
    "    logging.info('Performing Analysis on the female and male data\\n')\n",
    "    female_data = df[df['PatientGender'] == 1]\n",
    "    create_html_report(female_data, 'Output/analysis_results/analysis_female.html')\n",
    "\n",
    "    male_data = df[df['PatientGender'] == 2]\n",
    "    create_html_report(male_data, 'Output/analysis_results/analysis_male.html')\n",
    "\n",
    "except ValueError as e:\n",
    "    logging.error(str(e))\n",
    "    quit()"
   ]
  },
  {
   "cell_type": "code",
   "execution_count": null,
   "id": "05125a84",
   "metadata": {},
   "outputs": [],
   "source": []
  }
 ],
 "metadata": {
  "kernelspec": {
   "display_name": "Python 3",
   "language": "python",
   "name": "python3"
  },
  "language_info": {
   "codemirror_mode": {
    "name": "ipython",
    "version": 3
   },
   "file_extension": ".py",
   "mimetype": "text/x-python",
   "name": "python",
   "nbconvert_exporter": "python",
   "pygments_lexer": "ipython3",
   "version": "3.8.8"
  }
 },
 "nbformat": 4,
 "nbformat_minor": 5
}
